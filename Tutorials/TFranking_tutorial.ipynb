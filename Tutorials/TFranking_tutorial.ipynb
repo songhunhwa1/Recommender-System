{
 "cells": [
  {
   "cell_type": "code",
   "execution_count": 1,
   "metadata": {},
   "outputs": [
    {
     "data": {
      "text/plain": [
       "True"
      ]
     },
     "execution_count": 1,
     "metadata": {},
     "output_type": "execute_result"
    }
   ],
   "source": [
    "import tensorflow as tf\n",
    "import tensorflow_ranking as tfr\n",
    "\n",
    "tf.enable_eager_execution()\n",
    "tf.executing_eagerly()"
   ]
  },
  {
   "cell_type": "code",
   "execution_count": 2,
   "metadata": {},
   "outputs": [
    {
     "name": "stdout",
     "output_type": "stream",
     "text": [
      "--2019-04-26 17:52:10--  https://raw.githubusercontent.com/tensorflow/ranking/master/tensorflow_ranking/examples/data/train.txt\n",
      "Resolving raw.githubusercontent.com (raw.githubusercontent.com)... 151.101.72.133\n",
      "Connecting to raw.githubusercontent.com (raw.githubusercontent.com)|151.101.72.133|:443... connected.\n",
      "HTTP request sent, awaiting response... 200 OK\n",
      "Length: 29788 (29K) [text/plain]\n",
      "Saving to: ‘/tmp/train.txt’\n",
      "\n",
      "/tmp/train.txt      100%[===================>]  29.09K  --.-KB/s    in 0.04s   \n",
      "\n",
      "2019-04-26 17:52:11 (745 KB/s) - ‘/tmp/train.txt’ saved [29788/29788]\n",
      "\n",
      "--2019-04-26 17:52:11--  https://raw.githubusercontent.com/tensorflow/ranking/master/tensorflow_ranking/examples/data/test.txt\n",
      "Resolving raw.githubusercontent.com (raw.githubusercontent.com)... 151.101.72.133\n",
      "Connecting to raw.githubusercontent.com (raw.githubusercontent.com)|151.101.72.133|:443... connected.\n",
      "HTTP request sent, awaiting response... 200 OK\n",
      "Length: 8959 (8.7K) [text/plain]\n",
      "Saving to: ‘/tmp/test.txt’\n",
      "\n",
      "/tmp/test.txt       100%[===================>]   8.75K  --.-KB/s    in 0.04s   \n",
      "\n",
      "2019-04-26 17:52:11 (218 KB/s) - ‘/tmp/test.txt’ saved [8959/8959]\n",
      "\n"
     ]
    }
   ],
   "source": [
    "! wget -O \"/tmp/train.txt\" \"https://raw.githubusercontent.com/tensorflow/ranking/master/tensorflow_ranking/examples/data/train.txt\"\n",
    "! wget -O \"/tmp/test.txt\" \"https://raw.githubusercontent.com/tensorflow/ranking/master/tensorflow_ranking/examples/data/test.txt\""
   ]
  },
  {
   "cell_type": "code",
   "execution_count": 3,
   "metadata": {},
   "outputs": [],
   "source": [
    "# Store the paths to files containing training and test instances.\n",
    "# As noted above, we will assume the data is in the LibSVM format\n",
    "# and that the content of each file is sorted by query ID.\n",
    "_TRAIN_DATA_PATH=\"/tmp/train.txt\"\n",
    "_TEST_DATA_PATH=\"/tmp/test.txt\"\n",
    "\n",
    "# Define a loss function. To find a complete list of available\n",
    "# loss functions or to learn how to add your own custom function\n",
    "# please refer to the tensorflow_ranking.losses module.\n",
    "_LOSS=\"pairwise_logistic_loss\"\n",
    "\n",
    "# In the TF-Ranking framework, a training instance is represented\n",
    "# by a Tensor that contains features from a list of documents\n",
    "# associated with a single query. For simplicity, we fix the shape\n",
    "# of these Tensors to a maximum list size and call it \"list_size,\"\n",
    "# the maximum number of documents per query in the dataset.\n",
    "# In this demo, we take the following approach:\n",
    "#   * If a query has fewer documents, its Tensor will be padded\n",
    "#     appropriately.\n",
    "#   * If a query has more documents, we shuffle its list of\n",
    "#     documents and trim the list down to the prescribed list_size.\n",
    "_LIST_SIZE=100\n",
    "\n",
    "# The total number of features per query-document pair.\n",
    "# We set this number to the number of features in the MSLR-Web30K\n",
    "# dataset.\n",
    "_NUM_FEATURES=136\n",
    "\n",
    "# Parameters to the scoring function.\n",
    "_BATCH_SIZE=32\n",
    "_HIDDEN_LAYER_DIMS=[\"20\", \"10\"]"
   ]
  },
  {
   "cell_type": "code",
   "execution_count": 29,
   "metadata": {},
   "outputs": [],
   "source": [
    "path =_TRAIN_DATA_PATH\n",
    "\n",
    "train_dataset = tf.data.Dataset.from_generator(\n",
    "        tfr.data.libsvm_generator(path, _NUM_FEATURES, _LIST_SIZE),\n",
    "      \n",
    "    output_types=(\n",
    "          {str(k): tf.float32 for k in range(1,_NUM_FEATURES+1)},\n",
    "          tf.float32\n",
    "      ),\n",
    "    \n",
    "    output_shapes=(\n",
    "          {str(k): tf.TensorShape([_LIST_SIZE, 1])\n",
    "            for k in range(1,_NUM_FEATURES+1)},\n",
    "          tf.TensorShape([_LIST_SIZE])\n",
    "      )\n",
    "  )"
   ]
  },
  {
   "cell_type": "code",
   "execution_count": 30,
   "metadata": {},
   "outputs": [],
   "source": [
    "train_dataset = train_dataset.shuffle(1000).repeat().batch(_BATCH_SIZE)\n",
    "train_dataset = train_dataset.make_one_shot_iterator().get_next()"
   ]
  },
  {
   "cell_type": "code",
   "execution_count": 31,
   "metadata": {},
   "outputs": [],
   "source": [
    "feature_names = [\n",
    "      \"%d\" % (i + 1) for i in range(0, _NUM_FEATURES)\n",
    "]"
   ]
  },
  {
   "cell_type": "code",
   "execution_count": 33,
   "metadata": {},
   "outputs": [
    {
     "data": {
      "text/plain": [
       "{'1': NumericColumn(key='1', shape=(1,), default_value=(0.0,), dtype=tf.float32, normalizer_fn=None),\n",
       " '2': NumericColumn(key='2', shape=(1,), default_value=(0.0,), dtype=tf.float32, normalizer_fn=None),\n",
       " '3': NumericColumn(key='3', shape=(1,), default_value=(0.0,), dtype=tf.float32, normalizer_fn=None),\n",
       " '4': NumericColumn(key='4', shape=(1,), default_value=(0.0,), dtype=tf.float32, normalizer_fn=None),\n",
       " '5': NumericColumn(key='5', shape=(1,), default_value=(0.0,), dtype=tf.float32, normalizer_fn=None),\n",
       " '6': NumericColumn(key='6', shape=(1,), default_value=(0.0,), dtype=tf.float32, normalizer_fn=None),\n",
       " '7': NumericColumn(key='7', shape=(1,), default_value=(0.0,), dtype=tf.float32, normalizer_fn=None),\n",
       " '8': NumericColumn(key='8', shape=(1,), default_value=(0.0,), dtype=tf.float32, normalizer_fn=None),\n",
       " '9': NumericColumn(key='9', shape=(1,), default_value=(0.0,), dtype=tf.float32, normalizer_fn=None),\n",
       " '10': NumericColumn(key='10', shape=(1,), default_value=(0.0,), dtype=tf.float32, normalizer_fn=None),\n",
       " '11': NumericColumn(key='11', shape=(1,), default_value=(0.0,), dtype=tf.float32, normalizer_fn=None),\n",
       " '12': NumericColumn(key='12', shape=(1,), default_value=(0.0,), dtype=tf.float32, normalizer_fn=None),\n",
       " '13': NumericColumn(key='13', shape=(1,), default_value=(0.0,), dtype=tf.float32, normalizer_fn=None),\n",
       " '14': NumericColumn(key='14', shape=(1,), default_value=(0.0,), dtype=tf.float32, normalizer_fn=None),\n",
       " '15': NumericColumn(key='15', shape=(1,), default_value=(0.0,), dtype=tf.float32, normalizer_fn=None),\n",
       " '16': NumericColumn(key='16', shape=(1,), default_value=(0.0,), dtype=tf.float32, normalizer_fn=None),\n",
       " '17': NumericColumn(key='17', shape=(1,), default_value=(0.0,), dtype=tf.float32, normalizer_fn=None),\n",
       " '18': NumericColumn(key='18', shape=(1,), default_value=(0.0,), dtype=tf.float32, normalizer_fn=None),\n",
       " '19': NumericColumn(key='19', shape=(1,), default_value=(0.0,), dtype=tf.float32, normalizer_fn=None),\n",
       " '20': NumericColumn(key='20', shape=(1,), default_value=(0.0,), dtype=tf.float32, normalizer_fn=None),\n",
       " '21': NumericColumn(key='21', shape=(1,), default_value=(0.0,), dtype=tf.float32, normalizer_fn=None),\n",
       " '22': NumericColumn(key='22', shape=(1,), default_value=(0.0,), dtype=tf.float32, normalizer_fn=None),\n",
       " '23': NumericColumn(key='23', shape=(1,), default_value=(0.0,), dtype=tf.float32, normalizer_fn=None),\n",
       " '24': NumericColumn(key='24', shape=(1,), default_value=(0.0,), dtype=tf.float32, normalizer_fn=None),\n",
       " '25': NumericColumn(key='25', shape=(1,), default_value=(0.0,), dtype=tf.float32, normalizer_fn=None),\n",
       " '26': NumericColumn(key='26', shape=(1,), default_value=(0.0,), dtype=tf.float32, normalizer_fn=None),\n",
       " '27': NumericColumn(key='27', shape=(1,), default_value=(0.0,), dtype=tf.float32, normalizer_fn=None),\n",
       " '28': NumericColumn(key='28', shape=(1,), default_value=(0.0,), dtype=tf.float32, normalizer_fn=None),\n",
       " '29': NumericColumn(key='29', shape=(1,), default_value=(0.0,), dtype=tf.float32, normalizer_fn=None),\n",
       " '30': NumericColumn(key='30', shape=(1,), default_value=(0.0,), dtype=tf.float32, normalizer_fn=None),\n",
       " '31': NumericColumn(key='31', shape=(1,), default_value=(0.0,), dtype=tf.float32, normalizer_fn=None),\n",
       " '32': NumericColumn(key='32', shape=(1,), default_value=(0.0,), dtype=tf.float32, normalizer_fn=None),\n",
       " '33': NumericColumn(key='33', shape=(1,), default_value=(0.0,), dtype=tf.float32, normalizer_fn=None),\n",
       " '34': NumericColumn(key='34', shape=(1,), default_value=(0.0,), dtype=tf.float32, normalizer_fn=None),\n",
       " '35': NumericColumn(key='35', shape=(1,), default_value=(0.0,), dtype=tf.float32, normalizer_fn=None),\n",
       " '36': NumericColumn(key='36', shape=(1,), default_value=(0.0,), dtype=tf.float32, normalizer_fn=None),\n",
       " '37': NumericColumn(key='37', shape=(1,), default_value=(0.0,), dtype=tf.float32, normalizer_fn=None),\n",
       " '38': NumericColumn(key='38', shape=(1,), default_value=(0.0,), dtype=tf.float32, normalizer_fn=None),\n",
       " '39': NumericColumn(key='39', shape=(1,), default_value=(0.0,), dtype=tf.float32, normalizer_fn=None),\n",
       " '40': NumericColumn(key='40', shape=(1,), default_value=(0.0,), dtype=tf.float32, normalizer_fn=None),\n",
       " '41': NumericColumn(key='41', shape=(1,), default_value=(0.0,), dtype=tf.float32, normalizer_fn=None),\n",
       " '42': NumericColumn(key='42', shape=(1,), default_value=(0.0,), dtype=tf.float32, normalizer_fn=None),\n",
       " '43': NumericColumn(key='43', shape=(1,), default_value=(0.0,), dtype=tf.float32, normalizer_fn=None),\n",
       " '44': NumericColumn(key='44', shape=(1,), default_value=(0.0,), dtype=tf.float32, normalizer_fn=None),\n",
       " '45': NumericColumn(key='45', shape=(1,), default_value=(0.0,), dtype=tf.float32, normalizer_fn=None),\n",
       " '46': NumericColumn(key='46', shape=(1,), default_value=(0.0,), dtype=tf.float32, normalizer_fn=None),\n",
       " '47': NumericColumn(key='47', shape=(1,), default_value=(0.0,), dtype=tf.float32, normalizer_fn=None),\n",
       " '48': NumericColumn(key='48', shape=(1,), default_value=(0.0,), dtype=tf.float32, normalizer_fn=None),\n",
       " '49': NumericColumn(key='49', shape=(1,), default_value=(0.0,), dtype=tf.float32, normalizer_fn=None),\n",
       " '50': NumericColumn(key='50', shape=(1,), default_value=(0.0,), dtype=tf.float32, normalizer_fn=None),\n",
       " '51': NumericColumn(key='51', shape=(1,), default_value=(0.0,), dtype=tf.float32, normalizer_fn=None),\n",
       " '52': NumericColumn(key='52', shape=(1,), default_value=(0.0,), dtype=tf.float32, normalizer_fn=None),\n",
       " '53': NumericColumn(key='53', shape=(1,), default_value=(0.0,), dtype=tf.float32, normalizer_fn=None),\n",
       " '54': NumericColumn(key='54', shape=(1,), default_value=(0.0,), dtype=tf.float32, normalizer_fn=None),\n",
       " '55': NumericColumn(key='55', shape=(1,), default_value=(0.0,), dtype=tf.float32, normalizer_fn=None),\n",
       " '56': NumericColumn(key='56', shape=(1,), default_value=(0.0,), dtype=tf.float32, normalizer_fn=None),\n",
       " '57': NumericColumn(key='57', shape=(1,), default_value=(0.0,), dtype=tf.float32, normalizer_fn=None),\n",
       " '58': NumericColumn(key='58', shape=(1,), default_value=(0.0,), dtype=tf.float32, normalizer_fn=None),\n",
       " '59': NumericColumn(key='59', shape=(1,), default_value=(0.0,), dtype=tf.float32, normalizer_fn=None),\n",
       " '60': NumericColumn(key='60', shape=(1,), default_value=(0.0,), dtype=tf.float32, normalizer_fn=None),\n",
       " '61': NumericColumn(key='61', shape=(1,), default_value=(0.0,), dtype=tf.float32, normalizer_fn=None),\n",
       " '62': NumericColumn(key='62', shape=(1,), default_value=(0.0,), dtype=tf.float32, normalizer_fn=None),\n",
       " '63': NumericColumn(key='63', shape=(1,), default_value=(0.0,), dtype=tf.float32, normalizer_fn=None),\n",
       " '64': NumericColumn(key='64', shape=(1,), default_value=(0.0,), dtype=tf.float32, normalizer_fn=None),\n",
       " '65': NumericColumn(key='65', shape=(1,), default_value=(0.0,), dtype=tf.float32, normalizer_fn=None),\n",
       " '66': NumericColumn(key='66', shape=(1,), default_value=(0.0,), dtype=tf.float32, normalizer_fn=None),\n",
       " '67': NumericColumn(key='67', shape=(1,), default_value=(0.0,), dtype=tf.float32, normalizer_fn=None),\n",
       " '68': NumericColumn(key='68', shape=(1,), default_value=(0.0,), dtype=tf.float32, normalizer_fn=None),\n",
       " '69': NumericColumn(key='69', shape=(1,), default_value=(0.0,), dtype=tf.float32, normalizer_fn=None),\n",
       " '70': NumericColumn(key='70', shape=(1,), default_value=(0.0,), dtype=tf.float32, normalizer_fn=None),\n",
       " '71': NumericColumn(key='71', shape=(1,), default_value=(0.0,), dtype=tf.float32, normalizer_fn=None),\n",
       " '72': NumericColumn(key='72', shape=(1,), default_value=(0.0,), dtype=tf.float32, normalizer_fn=None),\n",
       " '73': NumericColumn(key='73', shape=(1,), default_value=(0.0,), dtype=tf.float32, normalizer_fn=None),\n",
       " '74': NumericColumn(key='74', shape=(1,), default_value=(0.0,), dtype=tf.float32, normalizer_fn=None),\n",
       " '75': NumericColumn(key='75', shape=(1,), default_value=(0.0,), dtype=tf.float32, normalizer_fn=None),\n",
       " '76': NumericColumn(key='76', shape=(1,), default_value=(0.0,), dtype=tf.float32, normalizer_fn=None),\n",
       " '77': NumericColumn(key='77', shape=(1,), default_value=(0.0,), dtype=tf.float32, normalizer_fn=None),\n",
       " '78': NumericColumn(key='78', shape=(1,), default_value=(0.0,), dtype=tf.float32, normalizer_fn=None),\n",
       " '79': NumericColumn(key='79', shape=(1,), default_value=(0.0,), dtype=tf.float32, normalizer_fn=None),\n",
       " '80': NumericColumn(key='80', shape=(1,), default_value=(0.0,), dtype=tf.float32, normalizer_fn=None),\n",
       " '81': NumericColumn(key='81', shape=(1,), default_value=(0.0,), dtype=tf.float32, normalizer_fn=None),\n",
       " '82': NumericColumn(key='82', shape=(1,), default_value=(0.0,), dtype=tf.float32, normalizer_fn=None),\n",
       " '83': NumericColumn(key='83', shape=(1,), default_value=(0.0,), dtype=tf.float32, normalizer_fn=None),\n",
       " '84': NumericColumn(key='84', shape=(1,), default_value=(0.0,), dtype=tf.float32, normalizer_fn=None),\n",
       " '85': NumericColumn(key='85', shape=(1,), default_value=(0.0,), dtype=tf.float32, normalizer_fn=None),\n",
       " '86': NumericColumn(key='86', shape=(1,), default_value=(0.0,), dtype=tf.float32, normalizer_fn=None),\n",
       " '87': NumericColumn(key='87', shape=(1,), default_value=(0.0,), dtype=tf.float32, normalizer_fn=None),\n",
       " '88': NumericColumn(key='88', shape=(1,), default_value=(0.0,), dtype=tf.float32, normalizer_fn=None),\n",
       " '89': NumericColumn(key='89', shape=(1,), default_value=(0.0,), dtype=tf.float32, normalizer_fn=None),\n",
       " '90': NumericColumn(key='90', shape=(1,), default_value=(0.0,), dtype=tf.float32, normalizer_fn=None),\n",
       " '91': NumericColumn(key='91', shape=(1,), default_value=(0.0,), dtype=tf.float32, normalizer_fn=None),\n",
       " '92': NumericColumn(key='92', shape=(1,), default_value=(0.0,), dtype=tf.float32, normalizer_fn=None),\n",
       " '93': NumericColumn(key='93', shape=(1,), default_value=(0.0,), dtype=tf.float32, normalizer_fn=None),\n",
       " '94': NumericColumn(key='94', shape=(1,), default_value=(0.0,), dtype=tf.float32, normalizer_fn=None),\n",
       " '95': NumericColumn(key='95', shape=(1,), default_value=(0.0,), dtype=tf.float32, normalizer_fn=None),\n",
       " '96': NumericColumn(key='96', shape=(1,), default_value=(0.0,), dtype=tf.float32, normalizer_fn=None),\n",
       " '97': NumericColumn(key='97', shape=(1,), default_value=(0.0,), dtype=tf.float32, normalizer_fn=None),\n",
       " '98': NumericColumn(key='98', shape=(1,), default_value=(0.0,), dtype=tf.float32, normalizer_fn=None),\n",
       " '99': NumericColumn(key='99', shape=(1,), default_value=(0.0,), dtype=tf.float32, normalizer_fn=None),\n",
       " '100': NumericColumn(key='100', shape=(1,), default_value=(0.0,), dtype=tf.float32, normalizer_fn=None),\n",
       " '101': NumericColumn(key='101', shape=(1,), default_value=(0.0,), dtype=tf.float32, normalizer_fn=None),\n",
       " '102': NumericColumn(key='102', shape=(1,), default_value=(0.0,), dtype=tf.float32, normalizer_fn=None),\n",
       " '103': NumericColumn(key='103', shape=(1,), default_value=(0.0,), dtype=tf.float32, normalizer_fn=None),\n",
       " '104': NumericColumn(key='104', shape=(1,), default_value=(0.0,), dtype=tf.float32, normalizer_fn=None),\n",
       " '105': NumericColumn(key='105', shape=(1,), default_value=(0.0,), dtype=tf.float32, normalizer_fn=None),\n",
       " '106': NumericColumn(key='106', shape=(1,), default_value=(0.0,), dtype=tf.float32, normalizer_fn=None),\n",
       " '107': NumericColumn(key='107', shape=(1,), default_value=(0.0,), dtype=tf.float32, normalizer_fn=None),\n",
       " '108': NumericColumn(key='108', shape=(1,), default_value=(0.0,), dtype=tf.float32, normalizer_fn=None),\n",
       " '109': NumericColumn(key='109', shape=(1,), default_value=(0.0,), dtype=tf.float32, normalizer_fn=None),\n",
       " '110': NumericColumn(key='110', shape=(1,), default_value=(0.0,), dtype=tf.float32, normalizer_fn=None),\n",
       " '111': NumericColumn(key='111', shape=(1,), default_value=(0.0,), dtype=tf.float32, normalizer_fn=None),\n",
       " '112': NumericColumn(key='112', shape=(1,), default_value=(0.0,), dtype=tf.float32, normalizer_fn=None),\n",
       " '113': NumericColumn(key='113', shape=(1,), default_value=(0.0,), dtype=tf.float32, normalizer_fn=None),\n",
       " '114': NumericColumn(key='114', shape=(1,), default_value=(0.0,), dtype=tf.float32, normalizer_fn=None),\n",
       " '115': NumericColumn(key='115', shape=(1,), default_value=(0.0,), dtype=tf.float32, normalizer_fn=None),\n",
       " '116': NumericColumn(key='116', shape=(1,), default_value=(0.0,), dtype=tf.float32, normalizer_fn=None),\n",
       " '117': NumericColumn(key='117', shape=(1,), default_value=(0.0,), dtype=tf.float32, normalizer_fn=None),\n",
       " '118': NumericColumn(key='118', shape=(1,), default_value=(0.0,), dtype=tf.float32, normalizer_fn=None),\n",
       " '119': NumericColumn(key='119', shape=(1,), default_value=(0.0,), dtype=tf.float32, normalizer_fn=None),\n",
       " '120': NumericColumn(key='120', shape=(1,), default_value=(0.0,), dtype=tf.float32, normalizer_fn=None),\n",
       " '121': NumericColumn(key='121', shape=(1,), default_value=(0.0,), dtype=tf.float32, normalizer_fn=None),\n",
       " '122': NumericColumn(key='122', shape=(1,), default_value=(0.0,), dtype=tf.float32, normalizer_fn=None),\n",
       " '123': NumericColumn(key='123', shape=(1,), default_value=(0.0,), dtype=tf.float32, normalizer_fn=None),\n",
       " '124': NumericColumn(key='124', shape=(1,), default_value=(0.0,), dtype=tf.float32, normalizer_fn=None),\n",
       " '125': NumericColumn(key='125', shape=(1,), default_value=(0.0,), dtype=tf.float32, normalizer_fn=None),\n",
       " '126': NumericColumn(key='126', shape=(1,), default_value=(0.0,), dtype=tf.float32, normalizer_fn=None),\n",
       " '127': NumericColumn(key='127', shape=(1,), default_value=(0.0,), dtype=tf.float32, normalizer_fn=None),\n",
       " '128': NumericColumn(key='128', shape=(1,), default_value=(0.0,), dtype=tf.float32, normalizer_fn=None),\n",
       " '129': NumericColumn(key='129', shape=(1,), default_value=(0.0,), dtype=tf.float32, normalizer_fn=None),\n",
       " '130': NumericColumn(key='130', shape=(1,), default_value=(0.0,), dtype=tf.float32, normalizer_fn=None),\n",
       " '131': NumericColumn(key='131', shape=(1,), default_value=(0.0,), dtype=tf.float32, normalizer_fn=None),\n",
       " '132': NumericColumn(key='132', shape=(1,), default_value=(0.0,), dtype=tf.float32, normalizer_fn=None),\n",
       " '133': NumericColumn(key='133', shape=(1,), default_value=(0.0,), dtype=tf.float32, normalizer_fn=None),\n",
       " '134': NumericColumn(key='134', shape=(1,), default_value=(0.0,), dtype=tf.float32, normalizer_fn=None),\n",
       " '135': NumericColumn(key='135', shape=(1,), default_value=(0.0,), dtype=tf.float32, normalizer_fn=None),\n",
       " '136': NumericColumn(key='136', shape=(1,), default_value=(0.0,), dtype=tf.float32, normalizer_fn=None)}"
      ]
     },
     "execution_count": 33,
     "metadata": {},
     "output_type": "execute_result"
    }
   ],
   "source": [
    "{\n",
    "    name: tf.feature_column.numeric_column(\n",
    "          name, shape=(1,), default_value=0.0) for name in feature_names\n",
    "}    "
   ]
  },
  {
   "cell_type": "code",
   "execution_count": null,
   "metadata": {},
   "outputs": [],
   "source": []
  },
  {
   "cell_type": "code",
   "execution_count": null,
   "metadata": {},
   "outputs": [],
   "source": []
  },
  {
   "cell_type": "code",
   "execution_count": 5,
   "metadata": {},
   "outputs": [],
   "source": [
    "def example_feature_columns():\n",
    "    feature_names = [\n",
    "      \"%d\" % (i + 1) for i in range(0, _NUM_FEATURES)\n",
    "  ]\n",
    "    return {\n",
    "      name: tf.feature_column.numeric_column(\n",
    "          name, shape=(1,), default_value=0.0) for name in feature_names\n",
    "  }\n",
    "\n",
    "def make_score_fn():\n",
    "\n",
    "    def _score_fn(context_features, group_features, mode, params, config):\n",
    "        del params\n",
    "        del config\n",
    "    # Define input layer.\n",
    "    example_input = [\n",
    "        tf.layers.flatten(group_features[name])\n",
    "        for name in sorted(example_feature_columns())\n",
    "    ]\n",
    "    input_layer = tf.concat(example_input, 1)\n",
    "\n",
    "    cur_layer = input_layer\n",
    "    for i, layer_width in enumerate(int(d) for d in _HIDDEN_LAYER_DIMS):\n",
    "        cur_layer = tf.layers.dense(\n",
    "          cur_layer,\n",
    "          units=layer_width,\n",
    "          activation=\"tanh\")\n",
    "\n",
    "    logits = tf.layers.dense(cur_layer, units=1)\n",
    "    \n",
    "    return logits\n",
    "\n",
    "    return _score_fn"
   ]
  },
  {
   "cell_type": "code",
   "execution_count": 6,
   "metadata": {},
   "outputs": [],
   "source": [
    "def eval_metric_fns():\n",
    "    metric_fns = {}\n",
    "    metric_fns.update({\n",
    "      \"metric/ndcg@%d\" % topn: tfr.metrics.make_ranking_metric_fn(\n",
    "          tfr.metrics.RankingMetricKey.NDCG, topn=topn)\n",
    "      for topn in [1, 3, 5, 10]\n",
    "  })\n",
    "\n",
    "    return metric_fns"
   ]
  },
  {
   "cell_type": "code",
   "execution_count": 13,
   "metadata": {},
   "outputs": [],
   "source": [
    "def get_estimator(hparams):\n",
    "\n",
    "    def _train_op_fn(loss):\n",
    "    \n",
    "        return tf.contrib.layers.optimize_loss(\n",
    "        loss=loss,\n",
    "        global_step=tf.train.get_global_step(),\n",
    "        learning_rate=hparams.learning_rate,\n",
    "        optimizer=\"Adagrad\")\n",
    "\n",
    "    ranking_head = tfr.head.create_ranking_head(\n",
    "      loss_fn=tfr.losses.make_loss_fn(_LOSS),\n",
    "      eval_metric_fns=eval_metric_fns(),\n",
    "      train_op_fn=_train_op_fn)\n",
    "\n",
    "    return tf.estimator.Estimator(\n",
    "      model_fn=tfr.model.make_groupwise_ranking_fn(\n",
    "          group_score_fn=make_score_fn(),\n",
    "          group_size=1,\n",
    "          transform_fn=None,\n",
    "          ranking_head=ranking_head),\n",
    "      params=hparams)\n"
   ]
  },
  {
   "cell_type": "code",
   "execution_count": 14,
   "metadata": {},
   "outputs": [
    {
     "ename": "NameError",
     "evalue": "name 'group_features' is not defined",
     "output_type": "error",
     "traceback": [
      "\u001b[0;31m---------------------------------------------------------------------------\u001b[0m",
      "\u001b[0;31mNameError\u001b[0m                                 Traceback (most recent call last)",
      "\u001b[0;32m<ipython-input-14-42646415380c>\u001b[0m in \u001b[0;36m<module>\u001b[0;34m\u001b[0m\n\u001b[1;32m      1\u001b[0m \u001b[0mhparams\u001b[0m \u001b[0;34m=\u001b[0m \u001b[0mtf\u001b[0m\u001b[0;34m.\u001b[0m\u001b[0mcontrib\u001b[0m\u001b[0;34m.\u001b[0m\u001b[0mtraining\u001b[0m\u001b[0;34m.\u001b[0m\u001b[0mHParams\u001b[0m\u001b[0;34m(\u001b[0m\u001b[0mlearning_rate\u001b[0m\u001b[0;34m=\u001b[0m\u001b[0;36m0.05\u001b[0m\u001b[0;34m)\u001b[0m\u001b[0;34m\u001b[0m\u001b[0;34m\u001b[0m\u001b[0m\n\u001b[0;32m----> 2\u001b[0;31m \u001b[0mranker\u001b[0m \u001b[0;34m=\u001b[0m \u001b[0mget_estimator\u001b[0m\u001b[0;34m(\u001b[0m\u001b[0mhparams\u001b[0m\u001b[0;34m)\u001b[0m\u001b[0;34m\u001b[0m\u001b[0;34m\u001b[0m\u001b[0m\n\u001b[0m",
      "\u001b[0;32m<ipython-input-13-f8cd0544c3bb>\u001b[0m in \u001b[0;36mget_estimator\u001b[0;34m(hparams)\u001b[0m\n\u001b[1;32m     16\u001b[0m     return tf.estimator.Estimator(\n\u001b[1;32m     17\u001b[0m       model_fn=tfr.model.make_groupwise_ranking_fn(\n\u001b[0;32m---> 18\u001b[0;31m           \u001b[0mgroup_score_fn\u001b[0m\u001b[0;34m=\u001b[0m\u001b[0mmake_score_fn\u001b[0m\u001b[0;34m(\u001b[0m\u001b[0;34m)\u001b[0m\u001b[0;34m,\u001b[0m\u001b[0;34m\u001b[0m\u001b[0;34m\u001b[0m\u001b[0m\n\u001b[0m\u001b[1;32m     19\u001b[0m           \u001b[0mgroup_size\u001b[0m\u001b[0;34m=\u001b[0m\u001b[0;36m1\u001b[0m\u001b[0;34m,\u001b[0m\u001b[0;34m\u001b[0m\u001b[0;34m\u001b[0m\u001b[0m\n\u001b[1;32m     20\u001b[0m           \u001b[0mtransform_fn\u001b[0m\u001b[0;34m=\u001b[0m\u001b[0;32mNone\u001b[0m\u001b[0;34m,\u001b[0m\u001b[0;34m\u001b[0m\u001b[0;34m\u001b[0m\u001b[0m\n",
      "\u001b[0;32m<ipython-input-5-257352295b11>\u001b[0m in \u001b[0;36mmake_score_fn\u001b[0;34m()\u001b[0m\n\u001b[1;32m     16\u001b[0m     example_input = [\n\u001b[1;32m     17\u001b[0m         \u001b[0mtf\u001b[0m\u001b[0;34m.\u001b[0m\u001b[0mlayers\u001b[0m\u001b[0;34m.\u001b[0m\u001b[0mflatten\u001b[0m\u001b[0;34m(\u001b[0m\u001b[0mgroup_features\u001b[0m\u001b[0;34m[\u001b[0m\u001b[0mname\u001b[0m\u001b[0;34m]\u001b[0m\u001b[0;34m)\u001b[0m\u001b[0;34m\u001b[0m\u001b[0;34m\u001b[0m\u001b[0m\n\u001b[0;32m---> 18\u001b[0;31m         \u001b[0;32mfor\u001b[0m \u001b[0mname\u001b[0m \u001b[0;32min\u001b[0m \u001b[0msorted\u001b[0m\u001b[0;34m(\u001b[0m\u001b[0mexample_feature_columns\u001b[0m\u001b[0;34m(\u001b[0m\u001b[0;34m)\u001b[0m\u001b[0;34m)\u001b[0m\u001b[0;34m\u001b[0m\u001b[0;34m\u001b[0m\u001b[0m\n\u001b[0m\u001b[1;32m     19\u001b[0m     ]\n\u001b[1;32m     20\u001b[0m     \u001b[0minput_layer\u001b[0m \u001b[0;34m=\u001b[0m \u001b[0mtf\u001b[0m\u001b[0;34m.\u001b[0m\u001b[0mconcat\u001b[0m\u001b[0;34m(\u001b[0m\u001b[0mexample_input\u001b[0m\u001b[0;34m,\u001b[0m \u001b[0;36m1\u001b[0m\u001b[0;34m)\u001b[0m\u001b[0;34m\u001b[0m\u001b[0;34m\u001b[0m\u001b[0m\n",
      "\u001b[0;32m<ipython-input-5-257352295b11>\u001b[0m in \u001b[0;36m<listcomp>\u001b[0;34m(.0)\u001b[0m\n\u001b[1;32m     16\u001b[0m     example_input = [\n\u001b[1;32m     17\u001b[0m         \u001b[0mtf\u001b[0m\u001b[0;34m.\u001b[0m\u001b[0mlayers\u001b[0m\u001b[0;34m.\u001b[0m\u001b[0mflatten\u001b[0m\u001b[0;34m(\u001b[0m\u001b[0mgroup_features\u001b[0m\u001b[0;34m[\u001b[0m\u001b[0mname\u001b[0m\u001b[0;34m]\u001b[0m\u001b[0;34m)\u001b[0m\u001b[0;34m\u001b[0m\u001b[0;34m\u001b[0m\u001b[0m\n\u001b[0;32m---> 18\u001b[0;31m         \u001b[0;32mfor\u001b[0m \u001b[0mname\u001b[0m \u001b[0;32min\u001b[0m \u001b[0msorted\u001b[0m\u001b[0;34m(\u001b[0m\u001b[0mexample_feature_columns\u001b[0m\u001b[0;34m(\u001b[0m\u001b[0;34m)\u001b[0m\u001b[0;34m)\u001b[0m\u001b[0;34m\u001b[0m\u001b[0;34m\u001b[0m\u001b[0m\n\u001b[0m\u001b[1;32m     19\u001b[0m     ]\n\u001b[1;32m     20\u001b[0m     \u001b[0minput_layer\u001b[0m \u001b[0;34m=\u001b[0m \u001b[0mtf\u001b[0m\u001b[0;34m.\u001b[0m\u001b[0mconcat\u001b[0m\u001b[0;34m(\u001b[0m\u001b[0mexample_input\u001b[0m\u001b[0;34m,\u001b[0m \u001b[0;36m1\u001b[0m\u001b[0;34m)\u001b[0m\u001b[0;34m\u001b[0m\u001b[0;34m\u001b[0m\u001b[0m\n",
      "\u001b[0;31mNameError\u001b[0m: name 'group_features' is not defined"
     ]
    }
   ],
   "source": [
    "hparams = tf.contrib.training.HParams(learning_rate=0.05)\n",
    "ranker = get_estimator(hparams)"
   ]
  },
  {
   "cell_type": "code",
   "execution_count": 15,
   "metadata": {},
   "outputs": [
    {
     "ename": "NameError",
     "evalue": "name 'ranker' is not defined",
     "output_type": "error",
     "traceback": [
      "\u001b[0;31m---------------------------------------------------------------------------\u001b[0m",
      "\u001b[0;31mNameError\u001b[0m                                 Traceback (most recent call last)",
      "\u001b[0;32m<ipython-input-15-bda48312825f>\u001b[0m in \u001b[0;36m<module>\u001b[0;34m\u001b[0m\n\u001b[0;32m----> 1\u001b[0;31m \u001b[0mranker\u001b[0m\u001b[0;34m.\u001b[0m\u001b[0mtrain\u001b[0m\u001b[0;34m(\u001b[0m\u001b[0minput_fn\u001b[0m\u001b[0;34m=\u001b[0m\u001b[0;32mlambda\u001b[0m\u001b[0;34m:\u001b[0m \u001b[0minput_fn\u001b[0m\u001b[0;34m(\u001b[0m\u001b[0m_TRAIN_DATA_PATH\u001b[0m\u001b[0;34m)\u001b[0m\u001b[0;34m,\u001b[0m \u001b[0msteps\u001b[0m\u001b[0;34m=\u001b[0m\u001b[0;36m100\u001b[0m\u001b[0;34m)\u001b[0m\u001b[0;34m\u001b[0m\u001b[0;34m\u001b[0m\u001b[0m\n\u001b[0m",
      "\u001b[0;31mNameError\u001b[0m: name 'ranker' is not defined"
     ]
    }
   ],
   "source": [
    "ranker.train(input_fn=lambda: input_fn(_TRAIN_DATA_PATH), steps=100)\n"
   ]
  },
  {
   "cell_type": "code",
   "execution_count": 16,
   "metadata": {},
   "outputs": [
    {
     "ename": "NameError",
     "evalue": "name 'ranker' is not defined",
     "output_type": "error",
     "traceback": [
      "\u001b[0;31m---------------------------------------------------------------------------\u001b[0m",
      "\u001b[0;31mNameError\u001b[0m                                 Traceback (most recent call last)",
      "\u001b[0;32m<ipython-input-16-02e1f3782f11>\u001b[0m in \u001b[0;36m<module>\u001b[0;34m\u001b[0m\n\u001b[0;32m----> 1\u001b[0;31m \u001b[0mranker\u001b[0m\u001b[0;34m.\u001b[0m\u001b[0mevaluate\u001b[0m\u001b[0;34m(\u001b[0m\u001b[0minput_fn\u001b[0m\u001b[0;34m=\u001b[0m\u001b[0;32mlambda\u001b[0m\u001b[0;34m:\u001b[0m \u001b[0minput_fn\u001b[0m\u001b[0;34m(\u001b[0m\u001b[0m_TEST_DATA_PATH\u001b[0m\u001b[0;34m)\u001b[0m\u001b[0;34m,\u001b[0m \u001b[0msteps\u001b[0m\u001b[0;34m=\u001b[0m\u001b[0;36m100\u001b[0m\u001b[0;34m)\u001b[0m\u001b[0;34m\u001b[0m\u001b[0;34m\u001b[0m\u001b[0m\n\u001b[0m",
      "\u001b[0;31mNameError\u001b[0m: name 'ranker' is not defined"
     ]
    }
   ],
   "source": [
    "ranker.evaluate(input_fn=lambda: input_fn(_TEST_DATA_PATH), steps=100)\n"
   ]
  },
  {
   "cell_type": "code",
   "execution_count": 17,
   "metadata": {},
   "outputs": [
    {
     "ename": "NameError",
     "evalue": "name 'ranker' is not defined",
     "output_type": "error",
     "traceback": [
      "\u001b[0;31m---------------------------------------------------------------------------\u001b[0m",
      "\u001b[0;31mNameError\u001b[0m                                 Traceback (most recent call last)",
      "\u001b[0;32m<ipython-input-17-955361e383d4>\u001b[0m in \u001b[0;36m<module>\u001b[0;34m\u001b[0m\n\u001b[0;32m----> 1\u001b[0;31m \u001b[0mranker\u001b[0m\u001b[0;34m.\u001b[0m\u001b[0mmodel_dir\u001b[0m\u001b[0;34m\u001b[0m\u001b[0;34m\u001b[0m\u001b[0m\n\u001b[0m",
      "\u001b[0;31mNameError\u001b[0m: name 'ranker' is not defined"
     ]
    }
   ],
   "source": [
    "ranker.model_dir\n"
   ]
  },
  {
   "cell_type": "code",
   "execution_count": null,
   "metadata": {},
   "outputs": [],
   "source": []
  }
 ],
 "metadata": {
  "kernelspec": {
   "display_name": "Python 3",
   "language": "python",
   "name": "python3"
  },
  "language_info": {
   "codemirror_mode": {
    "name": "ipython",
    "version": 3
   },
   "file_extension": ".py",
   "mimetype": "text/x-python",
   "name": "python",
   "nbconvert_exporter": "python",
   "pygments_lexer": "ipython3",
   "version": "3.7.1"
  }
 },
 "nbformat": 4,
 "nbformat_minor": 2
}
