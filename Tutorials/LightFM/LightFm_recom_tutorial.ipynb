{
 "cells": [
  {
   "cell_type": "markdown",
   "metadata": {},
   "source": [
    "## Learning-to-rank using the WARP loss\n",
    "\n",
    "- Tutorial: http://lyst.github.io/lightfm/docs/examples/warp_loss.html\n",
    "- dataset: https://grouplens.org/datasets/movielens/100k/\n",
    "\n",
    "LightFM is probably the only recommender package implementing the WARP (Weighted Approximate-Rank Pairwise) loss for implicit feedback learning-to-rank. Generally, it perfoms better than the more popular BPR (Bayesian Personalised Ranking) loss — often by a large margin. \n",
    "\n",
    "WARP deals with (user, positive item, negative item) triplets. Unlike BPR, the negative items in the triplet are not chosen by random sampling: they are chosen from among those negatie items which would violate the desired item ranking given the state of the model. This approximates a form of active learning where the model selects those triplets that it cannot currently rank correctly.\n",
    "\n",
    "- BPR: Bayesian Personalised Ranking pairwise loss: It maximizes the prediction difference between \n",
    "\ta positive example and a randomly chosen negative example. It is useful when only positive interactions are present.\n",
    "\n",
    "- WARP: Weighted Approximate-Rank Pairwise loss: Maximises the rank of positive examples \n",
    "\tby repeatedly sampling negative examples until rank violating one is found"
   ]
  },
  {
   "cell_type": "code",
   "execution_count": 1,
   "metadata": {},
   "outputs": [
    {
     "name": "stderr",
     "output_type": "stream",
     "text": [
      "/anaconda3/lib/python3.7/site-packages/lightfm/_lightfm_fast.py:9: UserWarning: LightFM was compiled without OpenMP support. Only a single thread will be used.\n",
      "  warnings.warn('LightFM was compiled without OpenMP support. '\n"
     ]
    }
   ],
   "source": [
    "import numpy as np\n",
    "import pandas as pd\n",
    "%matplotlib inline\n",
    "\n",
    "import matplotlib\n",
    "import numpy as np\n",
    "import matplotlib.pyplot as plt\n",
    "\n",
    "from lightfm import LightFM\n",
    "from lightfm.datasets import fetch_movielens\n",
    "from lightfm.evaluation import auc_score"
   ]
  },
  {
   "cell_type": "markdown",
   "metadata": {},
   "source": [
    "### BRP vs WARP"
   ]
  },
  {
   "cell_type": "code",
   "execution_count": 2,
   "metadata": {},
   "outputs": [],
   "source": [
    "movielens = fetch_movielens()"
   ]
  },
  {
   "cell_type": "code",
   "execution_count": 3,
   "metadata": {},
   "outputs": [],
   "source": [
    "train, test = movielens['train'], movielens['test']"
   ]
  },
  {
   "cell_type": "code",
   "execution_count": 4,
   "metadata": {},
   "outputs": [],
   "source": [
    "alpha = 1e-05\n",
    "epochs = 70\n",
    "num_components = 32"
   ]
  },
  {
   "cell_type": "code",
   "execution_count": 5,
   "metadata": {},
   "outputs": [],
   "source": [
    "warp_model = LightFM(no_components=num_components,\n",
    "                    loss='warp',\n",
    "                    learning_schedule='adagrad',\n",
    "                    max_sampled=100,\n",
    "                    user_alpha=alpha,\n",
    "                    item_alpha=alpha)\n",
    "\n",
    "bpr_model = LightFM(no_components=num_components,\n",
    "                    loss='bpr',\n",
    "                    learning_schedule='adagrad',\n",
    "                    user_alpha=alpha,\n",
    "                    item_alpha=alpha)"
   ]
  },
  {
   "cell_type": "code",
   "execution_count": 6,
   "metadata": {},
   "outputs": [],
   "source": [
    "warp_auc = []\n",
    "bpr_auc = []"
   ]
  },
  {
   "cell_type": "code",
   "execution_count": 7,
   "metadata": {},
   "outputs": [],
   "source": [
    "for epoch in range(epochs):\n",
    "    warp_model.fit_partial(train, epochs=1)\n",
    "    warp_auc.append(auc_score(warp_model, test, train_interactions=train).mean())\n",
    "\n",
    "for epoch in range(epochs):\n",
    "    bpr_model.fit_partial(train, epochs=1)\n",
    "    bpr_auc.append(auc_score(bpr_model, test, train_interactions=train).mean())"
   ]
  },
  {
   "cell_type": "code",
   "execution_count": 8,
   "metadata": {},
   "outputs": [
    {
     "data": {
      "text/plain": [
       "0.93195987"
      ]
     },
     "execution_count": 8,
     "metadata": {},
     "output_type": "execute_result"
    }
   ],
   "source": [
    "np.array(warp_auc).mean()"
   ]
  },
  {
   "cell_type": "code",
   "execution_count": 9,
   "metadata": {},
   "outputs": [
    {
     "data": {
      "text/plain": [
       "0.88423866"
      ]
     },
     "execution_count": 9,
     "metadata": {},
     "output_type": "execute_result"
    }
   ],
   "source": [
    "np.array(bpr_auc).mean()"
   ]
  },
  {
   "cell_type": "code",
   "execution_count": 10,
   "metadata": {},
   "outputs": [
    {
     "data": {
      "image/png": "[encoded data removed]",
      "text/plain": [
       "<Figure size 432x288 with 1 Axes>"
      ]
     },
     "metadata": {
      "needs_background": "light"
     },
     "output_type": "display_data"
    }
   ],
   "source": [
    "x = np.arange(epochs)\n",
    "plt.plot(x, np.array(warp_auc))\n",
    "plt.plot(x, np.array(bpr_auc))\n",
    "plt.legend(['WARP AUC', 'BPR AUC'], loc='upper right')\n",
    "plt.show()"
   ]
  },
  {
   "cell_type": "markdown",
   "metadata": {},
   "source": [
    "### Build a simple rec model with WARP\n",
    "- https://towardsdatascience.com/how-to-build-a-movie-recommender-system-in-python-using-lightfm-8fa49d7cbe3b\n"
   ]
  },
  {
   "cell_type": "code",
   "execution_count": 1,
   "metadata": {},
   "outputs": [
    {
     "ename": "NameError",
     "evalue": "name 'fetch_movielens' is not defined",
     "output_type": "error",
     "traceback": [
      "\u001b[0;31m---------------------------------------------------------------------------\u001b[0m",
      "\u001b[0;31mNameError\u001b[0m                                 Traceback (most recent call last)",
      "\u001b[0;32m<ipython-input-1-d5d8ef13dcf6>\u001b[0m in \u001b[0;36m<module>\u001b[0;34m\u001b[0m\n\u001b[1;32m      1\u001b[0m \u001b[0;31m# data prep\u001b[0m\u001b[0;34m\u001b[0m\u001b[0;34m\u001b[0m\u001b[0;34m\u001b[0m\u001b[0m\n\u001b[0;32m----> 2\u001b[0;31m \u001b[0mdata\u001b[0m \u001b[0;34m=\u001b[0m \u001b[0mfetch_movielens\u001b[0m\u001b[0;34m(\u001b[0m\u001b[0mmin_rating\u001b[0m \u001b[0;34m=\u001b[0m \u001b[0;36m4.0\u001b[0m\u001b[0;34m)\u001b[0m\u001b[0;34m\u001b[0m\u001b[0;34m\u001b[0m\u001b[0m\n\u001b[0m",
      "\u001b[0;31mNameError\u001b[0m: name 'fetch_movielens' is not defined"
     ]
    }
   ],
   "source": [
    "# data prep\n",
    "data = fetch_movielens(min_rating = 4.0)"
   ]
  },
  {
   "cell_type": "code",
   "execution_count": 12,
   "metadata": {},
   "outputs": [
    {
     "name": "stdout",
     "output_type": "stream",
     "text": [
      "<943x1682 sparse matrix of type '<class 'numpy.int32'>'\n",
      "\twith 49906 stored elements in COOrdinate format>\n",
      "<943x1682 sparse matrix of type '<class 'numpy.int32'>'\n",
      "\twith 5469 stored elements in COOrdinate format>\n"
     ]
    }
   ],
   "source": [
    "print(repr(data['train']))\n",
    "print(repr(data['test']))"
   ]
  },
  {
   "cell_type": "code",
   "execution_count": 13,
   "metadata": {},
   "outputs": [
    {
     "data": {
      "text/plain": [
       "<lightfm.lightfm.LightFM at 0x116012470>"
      ]
     },
     "execution_count": 13,
     "metadata": {},
     "output_type": "execute_result"
    }
   ],
   "source": [
    "warp_model.fit(data['train'], epochs=30, num_threads=2)"
   ]
  },
  {
   "cell_type": "code",
   "execution_count": 14,
   "metadata": {},
   "outputs": [],
   "source": [
    "def simple_recommendation(model, data, user_ids):\n",
    "\n",
    "    n_users, n_items = data['train'].shape\n",
    "\n",
    "    for user_id in user_ids:\n",
    "        known_positives = data['item_labels'][data['train'].tocsr()[user_id].indices]\n",
    "        scores = model.predict(user_id, np.arange(n_items))\n",
    "        top_items = data['item_labels'][np.argsort(-scores)]\n",
    "\n",
    "        print(\"User %s\" % user_id)\n",
    "        print(\"Known positives:\")\n",
    "        \n",
    "        for x in known_positives[:10]:\n",
    "            print(\"  %s\" % x)\n",
    "\n",
    "        print(\"Recommended:\")\n",
    "\n",
    "        for x in top_items[:10]:\n",
    "            print(\"  %s\" % x)"
   ]
  },
  {
   "cell_type": "code",
   "execution_count": 15,
   "metadata": {},
   "outputs": [
    {
     "name": "stdout",
     "output_type": "stream",
     "text": [
      "User 3\n",
      "Known positives:\n",
      "  Seven (Se7en) (1995)\n",
      "  Contact (1997)\n",
      "  Starship Troopers (1997)\n",
      "  Air Force One (1997)\n",
      "  In & Out (1997)\n",
      "  Lost Highway (1997)\n",
      "  Cop Land (1997)\n",
      "  Desperate Measures (1998)\n",
      "  Assignment, The (1997)\n",
      "  Wonderland (1997)\n",
      "Recommended:\n",
      "  Starship Troopers (1997)\n",
      "  Cop Land (1997)\n",
      "  Chasing Amy (1997)\n",
      "  Air Force One (1997)\n",
      "  Scream (1996)\n",
      "  L.A. Confidential (1997)\n",
      "  I Know What You Did Last Summer (1997)\n",
      "  Game, The (1997)\n",
      "  Contact (1997)\n",
      "  Kiss the Girls (1997)\n"
     ]
    }
   ],
   "source": [
    "simple_recommendation(warp_model, data, [3])"
   ]
  },
  {
   "cell_type": "code",
   "execution_count": 16,
   "metadata": {},
   "outputs": [
    {
     "data": {
      "text/plain": [
       "0                          Star Wars (1977)\n",
       "1                      Event Horizon (1997)\n",
       "2                             Scream (1996)\n",
       "3                          Liar Liar (1997)\n",
       "4                        Ulee's Gold (1997)\n",
       "5                Wedding Singer, The (1998)\n",
       "6    One Flew Over the Cuckoo's Nest (1975)\n",
       "7                          Incognito (1997)\n",
       "dtype: object"
      ]
     },
     "execution_count": 16,
     "metadata": {},
     "output_type": "execute_result"
    }
   ],
   "source": [
    "pd.Series(data['item_labels'][data['test'].tocsr()[3].indices])"
   ]
  },
  {
   "cell_type": "code",
   "execution_count": 17,
   "metadata": {},
   "outputs": [
    {
     "name": "stdout",
     "output_type": "stream",
     "text": [
      "User 77\n",
      "Known positives:\n",
      "  Welcome to the Dollhouse (1995)\n",
      "  Jerry Maguire (1996)\n",
      "  Scream (1996)\n",
      "  Nutty Professor, The (1996)\n",
      "  Soul Food (1997)\n",
      "Recommended:\n",
      "  Scream (1996)\n",
      "  Jerry Maguire (1996)\n",
      "  Fargo (1996)\n",
      "  Welcome to the Dollhouse (1995)\n",
      "  Trainspotting (1996)\n",
      "  People vs. Larry Flynt, The (1996)\n",
      "  Dead Man Walking (1995)\n",
      "  Twelve Monkeys (1995)\n",
      "  Nutty Professor, The (1996)\n",
      "  Leaving Las Vegas (1995)\n"
     ]
    }
   ],
   "source": [
    "simple_recommendation(warp_model, data, [77])"
   ]
  },
  {
   "cell_type": "code",
   "execution_count": 18,
   "metadata": {},
   "outputs": [
    {
     "data": {
      "text/plain": [
       "0     My Best Friend's Wedding (1997)\n",
       "1                 Men in Black (1997)\n",
       "2                        Evita (1996)\n",
       "3                     In & Out (1997)\n",
       "4         Very Brady Sequel, A (1996)\n",
       "5    Love! Valour! Compassion! (1997)\n",
       "dtype: object"
      ]
     },
     "execution_count": 18,
     "metadata": {},
     "output_type": "execute_result"
    }
   ],
   "source": [
    "pd.Series(data['item_labels'][data['test'].tocsr()[77].indices])"
   ]
  },
  {
   "cell_type": "code",
   "execution_count": null,
   "metadata": {},
   "outputs": [],
   "source": []
  },
  {
   "cell_type": "code",
   "execution_count": null,
   "metadata": {},
   "outputs": [],
   "source": []
  },
  {
   "cell_type": "code",
   "execution_count": null,
   "metadata": {},
   "outputs": [],
   "source": []
  },
  {
   "cell_type": "code",
   "execution_count": null,
   "metadata": {},
   "outputs": [],
   "source": []
  },
  {
   "cell_type": "code",
   "execution_count": null,
   "metadata": {},
   "outputs": [],
   "source": []
  },
  {
   "cell_type": "code",
   "execution_count": null,
   "metadata": {},
   "outputs": [],
   "source": []
  },
  {
   "cell_type": "code",
   "execution_count": null,
   "metadata": {},
   "outputs": [],
   "source": []
  },
  {
   "cell_type": "code",
   "execution_count": null,
   "metadata": {},
   "outputs": [],
   "source": []
  },
  {
   "cell_type": "code",
   "execution_count": null,
   "metadata": {},
   "outputs": [],
   "source": []
  },
  {
   "cell_type": "code",
   "execution_count": null,
   "metadata": {},
   "outputs": [],
   "source": []
  },
  {
   "cell_type": "code",
   "execution_count": null,
   "metadata": {},
   "outputs": [],
   "source": []
  },
  {
   "cell_type": "code",
   "execution_count": null,
   "metadata": {},
   "outputs": [],
   "source": []
  },
  {
   "cell_type": "code",
   "execution_count": null,
   "metadata": {},
   "outputs": [],
   "source": []
  },
  {
   "cell_type": "code",
   "execution_count": null,
   "metadata": {},
   "outputs": [],
   "source": []
  },
  {
   "cell_type": "code",
   "execution_count": null,
   "metadata": {},
   "outputs": [],
   "source": []
  },
  {
   "cell_type": "code",
   "execution_count": null,
   "metadata": {},
   "outputs": [],
   "source": []
  },
  {
   "cell_type": "code",
   "execution_count": null,
   "metadata": {},
   "outputs": [],
   "source": []
  },
  {
   "cell_type": "code",
   "execution_count": null,
   "metadata": {},
   "outputs": [],
   "source": []
  },
  {
   "cell_type": "code",
   "execution_count": null,
   "metadata": {},
   "outputs": [],
   "source": []
  },
  {
   "cell_type": "markdown",
   "metadata": {},
   "source": [
    "### 배민/배라 order data"
   ]
  },
  {
   "cell_type": "code",
   "execution_count": 3,
   "metadata": {},
   "outputs": [],
   "source": [
    "tf = pd.read_csv(\"rec_shop_menu.csv\")"
   ]
  },
  {
   "cell_type": "code",
   "execution_count": 4,
   "metadata": {},
   "outputs": [
    {
     "data": {
      "text/plain": [
       "(1000000, 4)"
      ]
     },
     "execution_count": 4,
     "metadata": {},
     "output_type": "execute_result"
    }
   ],
   "source": [
    "tf.shape"
   ]
  },
  {
   "cell_type": "code",
   "execution_count": 5,
   "metadata": {},
   "outputs": [
    {
     "data": {
      "text/html": [
       "<div>\n",
       "<style scoped>\n",
       "    .dataframe tbody tr th:only-of-type {\n",
       "        vertical-align: middle;\n",
       "    }\n",
       "\n",
       "    .dataframe tbody tr th {\n",
       "        vertical-align: top;\n",
       "    }\n",
       "\n",
       "    .dataframe thead th {\n",
       "        text-align: right;\n",
       "    }\n",
       "</style>\n",
       "<table border=\"1\" class=\"dataframe\">\n",
       "  <thead>\n",
       "    <tr style=\"text-align: right;\">\n",
       "      <th></th>\n",
       "      <th>dvc_id</th>\n",
       "      <th>shop_no</th>\n",
       "      <th>food_nm</th>\n",
       "      <th>ord_food_price</th>\n",
       "    </tr>\n",
       "  </thead>\n",
       "  <tbody>\n",
       "    <tr>\n",
       "      <th>0</th>\n",
       "      <td>OPUDa12c16790e836d90</td>\n",
       "      <td>10791293</td>\n",
       "      <td>치파오치킨</td>\n",
       "      <td>9000</td>\n",
       "    </tr>\n",
       "    <tr>\n",
       "      <th>1</th>\n",
       "      <td>OPUDa12c16790e836d90</td>\n",
       "      <td>10847381</td>\n",
       "      <td>짜장면</td>\n",
       "      <td>6000</td>\n",
       "    </tr>\n",
       "    <tr>\n",
       "      <th>2</th>\n",
       "      <td>OPUDa12c16790e836d90</td>\n",
       "      <td>10847381</td>\n",
       "      <td>간짜장</td>\n",
       "      <td>7000</td>\n",
       "    </tr>\n",
       "    <tr>\n",
       "      <th>3</th>\n",
       "      <td>OPUD8bb8bdb8198af902</td>\n",
       "      <td>10740817</td>\n",
       "      <td>참치 김치찌개 2인세트</td>\n",
       "      <td>22500</td>\n",
       "    </tr>\n",
       "    <tr>\n",
       "      <th>4</th>\n",
       "      <td>OPUD8bb8bdb8198af902</td>\n",
       "      <td>10793530</td>\n",
       "      <td>스테이크 덮밥</td>\n",
       "      <td>14800</td>\n",
       "    </tr>\n",
       "  </tbody>\n",
       "</table>\n",
       "</div>"
      ],
      "text/plain": [
       "                 dvc_id   shop_no       food_nm  ord_food_price\n",
       "0  OPUDa12c16790e836d90  10791293         치파오치킨            9000\n",
       "1  OPUDa12c16790e836d90  10847381           짜장면            6000\n",
       "2  OPUDa12c16790e836d90  10847381           간짜장            7000\n",
       "3  OPUD8bb8bdb8198af902  10740817  참치 김치찌개 2인세트           22500\n",
       "4  OPUD8bb8bdb8198af902  10793530       스테이크 덮밥           14800"
      ]
     },
     "execution_count": 5,
     "metadata": {},
     "output_type": "execute_result"
    }
   ],
   "source": [
    "tf.head()"
   ]
  },
  {
   "cell_type": "code",
   "execution_count": 6,
   "metadata": {},
   "outputs": [
    {
     "data": {
      "text/html": [
       "<div>\n",
       "<style scoped>\n",
       "    .dataframe tbody tr th:only-of-type {\n",
       "        vertical-align: middle;\n",
       "    }\n",
       "\n",
       "    .dataframe tbody tr th {\n",
       "        vertical-align: top;\n",
       "    }\n",
       "\n",
       "    .dataframe thead th {\n",
       "        text-align: right;\n",
       "    }\n",
       "</style>\n",
       "<table border=\"1\" class=\"dataframe\">\n",
       "  <thead>\n",
       "    <tr style=\"text-align: right;\">\n",
       "      <th></th>\n",
       "      <th>dvc_id</th>\n",
       "      <th>shop_no</th>\n",
       "      <th>food_nm</th>\n",
       "      <th>ord_food_price</th>\n",
       "    </tr>\n",
       "  </thead>\n",
       "  <tbody>\n",
       "    <tr>\n",
       "      <th>999995</th>\n",
       "      <td>OPUD4B993AD4-05C4-4026-BCBC-A7042BFB8623</td>\n",
       "      <td>10566844</td>\n",
       "      <td>물밀면</td>\n",
       "      <td>6500</td>\n",
       "    </tr>\n",
       "    <tr>\n",
       "      <th>999996</th>\n",
       "      <td>OPUD1398563D-D326-470D-9493-C10FA832B575</td>\n",
       "      <td>10777688</td>\n",
       "      <td>고르곤졸라씬피자</td>\n",
       "      <td>14900</td>\n",
       "    </tr>\n",
       "    <tr>\n",
       "      <th>999997</th>\n",
       "      <td>OPUD1398563D-D326-470D-9493-C10FA832B575</td>\n",
       "      <td>10777688</td>\n",
       "      <td>봉골레파스타</td>\n",
       "      <td>14900</td>\n",
       "    </tr>\n",
       "    <tr>\n",
       "      <th>999998</th>\n",
       "      <td>OPUD1398563D-D326-470D-9493-C10FA832B575</td>\n",
       "      <td>10729037</td>\n",
       "      <td>간큰갈비세트</td>\n",
       "      <td>23000</td>\n",
       "    </tr>\n",
       "    <tr>\n",
       "      <th>999999</th>\n",
       "      <td>OPUD1398563D-D326-470D-9493-C10FA832B575</td>\n",
       "      <td>10714808</td>\n",
       "      <td>딸기티라미수</td>\n",
       "      <td>12500</td>\n",
       "    </tr>\n",
       "  </tbody>\n",
       "</table>\n",
       "</div>"
      ],
      "text/plain": [
       "                                          dvc_id   shop_no   food_nm  \\\n",
       "999995  OPUD4B993AD4-05C4-4026-BCBC-A7042BFB8623  10566844       물밀면   \n",
       "999996  OPUD1398563D-D326-470D-9493-C10FA832B575  10777688  고르곤졸라씬피자   \n",
       "999997  OPUD1398563D-D326-470D-9493-C10FA832B575  10777688    봉골레파스타   \n",
       "999998  OPUD1398563D-D326-470D-9493-C10FA832B575  10729037    간큰갈비세트   \n",
       "999999  OPUD1398563D-D326-470D-9493-C10FA832B575  10714808    딸기티라미수   \n",
       "\n",
       "        ord_food_price  \n",
       "999995            6500  \n",
       "999996           14900  \n",
       "999997           14900  \n",
       "999998           23000  \n",
       "999999           12500  "
      ]
     },
     "execution_count": 6,
     "metadata": {},
     "output_type": "execute_result"
    }
   ],
   "source": [
    "tf.tail()"
   ]
  },
  {
   "cell_type": "code",
   "execution_count": 17,
   "metadata": {},
   "outputs": [
    {
     "data": {
      "text/plain": [
       "OPUDe9f0c5fcb131177d                        649\n",
       "OPUDa99cd8625e34752f                        585\n",
       "OPUD5D0100DB-938D-4A76-A42E-DBD14E8ED612    477\n",
       "OPUDd5e75d82e0939053                        333\n",
       "OPUD1B5BE0DB-9919-4D83-BAEB-F96E7045236C    331\n",
       "OPUD8ECD5A5D-3130-49A3-B6F5-ADBA5BFEDBD9    289\n",
       "OPUD889AEAC8-39A8-4884-A118-E092E6A7BE1C    184\n",
       "OPUD9EB144EB-B34D-4C07-8A34-4A9F1A2ED07F    179\n",
       "OPUD2A81C94A-752B-4751-8E9D-962141A9A234    166\n",
       "OPUDBFBAED42-267C-4AEC-848C-06A9ECF42FD6    163\n",
       "OPUD0941F264-8DD4-419E-9706-35301D11288E    158\n",
       "OPUDbb54a21912dfe6b5                        151\n",
       "OPUD18eea3f41dce50cc                        151\n",
       "OPUDf1fdb39b07b57b2                         146\n",
       "OPUD84D659EE-8041-40CE-B9B2-84C7D06608C1    146\n",
       "OPUD5a19651becc8bf36                        143\n",
       "OPUDAB8F0C97-EAB8-4730-91FD-5C1B73DE1897    137\n",
       "OPUDD28DDE81-93D4-44C5-8E2B-1CDB7EDD7B5A    133\n",
       "OPUDD707C776-E2A3-4ACE-9641-3299962FE164    129\n",
       "OPUDcb995d4ec9b589f4                        129\n",
       "Name: dvc_id, dtype: int64"
      ]
     },
     "execution_count": 17,
     "metadata": {},
     "output_type": "execute_result"
    }
   ],
   "source": [
    "tf.dvc_id.value_counts()[:20]"
   ]
  },
  {
   "cell_type": "code",
   "execution_count": 8,
   "metadata": {},
   "outputs": [
    {
     "data": {
      "text/plain": [
       "볶음밥          7188\n",
       "짬뽕           6941\n",
       "간짜장          6408\n",
       "불고기버거세트      4906\n",
       "새우버거세트       4869\n",
       "탕수육          4453\n",
       "교촌 허니 콤보     3846\n",
       "제육덮밥         3699\n",
       "후라이드치킨       3601\n",
       "김치볶음밥        3198\n",
       "짜장면          3168\n",
       "물냉면          3066\n",
       "핫크리스피버거세트    2917\n",
       "치즈돈까스        2744\n",
       "족발           2635\n",
       "짬뽕밥          2504\n",
       "반반치킨         2400\n",
       "후라이드반+양념반    2303\n",
       "삼선짬뽕         2244\n",
       "엽기떡볶이        2240\n",
       "Name: food_nm, dtype: int64"
      ]
     },
     "execution_count": 8,
     "metadata": {},
     "output_type": "execute_result"
    }
   ],
   "source": [
    "tf.food_nm.value_counts()[:20]"
   ]
  },
  {
   "cell_type": "code",
   "execution_count": 11,
   "metadata": {},
   "outputs": [],
   "source": [
    "alpha = 1e-05\n",
    "epochs = 70\n",
    "num_components = 32\n",
    "\n",
    "warp_model = LightFM(no_components=num_components,\n",
    "                    loss='warp',\n",
    "                    learning_schedule='adagrad',\n",
    "                    max_sampled=100,\n",
    "                    user_alpha=alpha,\n",
    "                    item_alpha=alpha)"
   ]
  },
  {
   "cell_type": "code",
   "execution_count": 29,
   "metadata": {},
   "outputs": [],
   "source": [
    "temp = tf.copy()"
   ]
  },
  {
   "cell_type": "code",
   "execution_count": 30,
   "metadata": {},
   "outputs": [],
   "source": [
    "dvc_id = 'OPUDd5e75d82e0939053'\n",
    "\n",
    "m1 = tf[tf.dvc_id.eq(dvc_id)][\"food_nm\"].values"
   ]
  },
  {
   "cell_type": "code",
   "execution_count": 34,
   "metadata": {},
   "outputs": [],
   "source": [
    "temp[\"m1\"] = temp.food_nm.isin(m1).map(lambda x: 1 if x==True else 0)"
   ]
  },
  {
   "cell_type": "code",
   "execution_count": 36,
   "metadata": {},
   "outputs": [],
   "source": [
    "temp[\"train_yn\"] = np.random.randint(0, 2, len(temp))"
   ]
  },
  {
   "cell_type": "code",
   "execution_count": 37,
   "metadata": {},
   "outputs": [],
   "source": [
    "train = temp[temp.train_yn.eq(1)].copy()\n",
    "test = temp[temp.train_yn.eq(0)].copy()"
   ]
  },
  {
   "cell_type": "code",
   "execution_count": null,
   "metadata": {},
   "outputs": [],
   "source": []
  }
 ],
 "metadata": {
  "kernelspec": {
   "display_name": "Python 3",
   "language": "python",
   "name": "python3"
  },
  "language_info": {
   "codemirror_mode": {
    "name": "ipython",
    "version": 3
   },
   "file_extension": ".py",
   "mimetype": "text/x-python",
   "name": "python",
   "nbconvert_exporter": "python",
   "pygments_lexer": "ipython3",
   "version": "3.7.1"
  }
 },
 "nbformat": 4,
 "nbformat_minor": 2
}
